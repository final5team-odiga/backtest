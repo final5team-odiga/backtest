{
 "cells": [
  {
   "cell_type": "code",
   "execution_count": null,
   "id": "ce13a3e5",
   "metadata": {},
   "outputs": [],
   "source": [
    "import os\n",
    "from dotenv import load_dotenv\n",
    "from urllib.parse import urlparse, parse_qs\n",
    "import requests\n",
    "# ① .env 파일 로드\n",
    "load_dotenv()\n",
    "SPEECH_SERVICE_ENDPOINT = os.getenv(\"SPEECH_SERVICE_ENDPOINT\")\n",
    "SPEECH_SERVICE_KEY      = os.getenv(\"SPEECH_SERVICE_KEY\")\n",
    "SPEECH_REGION = os.getenv(\"SPEECH_REGION\")"
   ]
  },
  {
   "cell_type": "markdown",
   "id": "9b4c5a63",
   "metadata": {},
   "source": [
    "일반 rest api로 연결"
   ]
  },
  {
   "cell_type": "code",
   "execution_count": 11,
   "id": "ab251902",
   "metadata": {},
   "outputs": [
    {
     "name": "stderr",
     "output_type": "stream",
     "text": [
      "/Users/parkjiyon/Desktop/MSAI6/finalProject/fastapi-app/msaifinal/lib/python3.13/site-packages/tqdm/auto.py:21: TqdmWarning: IProgress not found. Please update jupyter and ipywidgets. See https://ipywidgets.readthedocs.io/en/stable/user_install.html\n",
      "  from .autonotebook import tqdm as notebook_tqdm\n"
     ]
    },
    {
     "name": "stdout",
     "output_type": "stream",
     "text": [
      "200 {\"RecognitionStatus\":\"Success\",\"Offset\":1900000,\"Duration\":10000000,\"DisplayText\":\"Watch the wedding like.\",\"NBest\":[{\"Confidence\":0.60624075,\"Lexical\":\"watch the wedding like\",\"ITN\":\"watch the wedding like\",\"MaskedITN\":\"watch the wedding like\",\"Display\":\"Watch the wedding like.\"}]}\n"
     ]
    },
    {
     "data": {
      "text/plain": [
       "'Watch the wedding like.'"
      ]
     },
     "execution_count": 11,
     "metadata": {},
     "output_type": "execute_result"
    }
   ],
   "source": [
    "import gradio as gr\n",
    "import requests\n",
    "\n",
    "def request_stt(file_path):\n",
    "    # endpoint\n",
    "    endpoint = SPEECH_SERVICE_ENDPOINT\n",
    "\n",
    "    query_params = {\n",
    "        \"language\" : \"ko-KR\",\n",
    "        \"format\" : \"detailed\"\n",
    "    }\n",
    "    # method:POST\n",
    "    # headers\n",
    "    headers = {\n",
    "        \"Content-Type\" : \"audio/wav\",\n",
    "        \"Ocp-Apim-Subscription-Key\" : SPEECH_SERVICE_KEY\n",
    "\n",
    "    }\n",
    "    # body\n",
    "    with open(file_path, \"rb\") as audio:\n",
    "        audio_data = audio.read()\n",
    "\n",
    "\n",
    "    response = requests.post(endpoint, params=query_params, headers=headers, data = audio_data)\n",
    "    print(response.status_code, response.text)\n",
    "\n",
    "\n",
    "    if response.status_code == 200:\n",
    "        response_json = response.json()\n",
    "        text = response_json['DisplayText']\n",
    "\n",
    "        return text\n",
    "    \n",
    "    else:\n",
    "        return \"\"\n",
    "\n",
    "\n",
    "request_stt(\"/Users/parkjiyon/Desktop/MSAI6/finalProject/fastapi-app/app/data/whatstheweatherlike.wav\")"
   ]
  },
  {
   "cell_type": "markdown",
   "id": "52ab4251",
   "metadata": {},
   "source": [
    "sdk 언어 감지 동기 방식"
   ]
  },
  {
   "cell_type": "code",
   "execution_count": null,
   "id": "17cf831d",
   "metadata": {},
   "outputs": [
    {
     "name": "stdout",
     "output_type": "stream",
     "text": [
      "Detected language: ko-KR\n",
      "Transcription:    데이터. 테스트 및 끝점 같은 콘텐츠는 사용자 지정 음성 포털에서 프로젝트로 구성됩니다. 각 프로젝트는 도메인 및 국가 슬래시 언어에만 적용됩니다. 예를 들어 미국에서 영어를 사용하는 콜센터에 대한 프로젝트를 만들 수 있습니다. 1번째 프로젝트를 만들려면 음성 텍스트 슬래시 사용자 지정 음성 선택한 다음 세 프로젝트를 클릭합니다. 프로젝트를 만들려면 마법사에서 제공하는 지침을 따릅니다. 프로젝트를 만든 후 내게 탭이 표시됩니다. 데이터 테스트 학습 및 배포. 닭을 사용하는 방법을 배우려면 다음 단계에서 제공되는 링크를 사용합니다.\n"
     ]
    }
   ],
   "source": [
    "import azure.cognitiveservices.speech as speechsdk\n",
    "import threading\n",
    "\n",
    "key = SPEECH_SERVICE_KEY\n",
    "region = SPEECH_REGION\n",
    "\n",
    "speech_config = speechsdk.SpeechConfig(subscription=key, region=region)\n",
    "auto_detect_config = speechsdk.AutoDetectSourceLanguageConfig(languages=[\"en-US\", \"ko-KR\", \"zh-CN\"])\n",
    "audio_config = speechsdk.AudioConfig(filename=\"/Users/parkjiyon/Desktop/MSAI6/finalProject/fastapi-app/app/data/audio1.wav\")\n",
    "\n",
    "recognizer = speechsdk.SpeechRecognizer(\n",
    "    speech_config=speech_config,\n",
    "    auto_detect_source_language_config=auto_detect_config,\n",
    "    audio_config=audio_config\n",
    ")\n",
    "\n",
    "all_results = []\n",
    "detected_lang = None\n",
    "done = threading.Event()\n",
    "\n",
    "def handle_final_result(evt):\n",
    "    global detected_lang\n",
    "\n",
    "    # 첫번째 인식 결과에서 자동 감지된 언어 가져오기 (한번만)\n",
    "    if detected_lang is None:\n",
    "        detected_lang = evt.result.properties.get(speechsdk.PropertyId.SpeechServiceConnection_AutoDetectSourceLanguageResult)\n",
    "    \n",
    "    all_results.append(evt.result.text)\n",
    "\n",
    "def handle_session_stopped(evt):\n",
    "    done.set()\n",
    "\n",
    "def handle_canceled(evt):\n",
    "    done.set()\n",
    "\n",
    "recognizer.recognized.connect(handle_final_result)\n",
    "recognizer.session_stopped.connect(handle_session_stopped)\n",
    "recognizer.canceled.connect(handle_canceled)\n",
    "\n",
    "recognizer.start_continuous_recognition()\n",
    "done.wait()\n",
    "recognizer.stop_continuous_recognition()\n",
    "\n",
    "full_transcript = ' '.join(all_results)\n",
    "\n",
    "print(f\"Detected language: {detected_lang}\")\n",
    "print(f\"Transcription:    {full_transcript}\")\n"
   ]
  },
  {
   "cell_type": "markdown",
   "id": "2fd5b83e",
   "metadata": {},
   "source": [
    "sdk 비동기 방식"
   ]
  },
  {
   "cell_type": "code",
   "execution_count": null,
   "id": "ec2c83f4",
   "metadata": {},
   "outputs": [
    {
     "ename": "RuntimeError",
     "evalue": "asyncio.run() cannot be called from a running event loop",
     "output_type": "error",
     "traceback": [
      "\u001b[31m---------------------------------------------------------------------------\u001b[39m",
      "\u001b[31mRuntimeError\u001b[39m                              Traceback (most recent call last)",
      "\u001b[36mCell\u001b[39m\u001b[36m \u001b[39m\u001b[32mIn[25]\u001b[39m\u001b[32m, line 56\u001b[39m\n\u001b[32m     53\u001b[39m     \u001b[38;5;28mprint\u001b[39m(\u001b[33m\"\u001b[39m\u001b[38;5;130;01m\\n\u001b[39;00m\u001b[33mFull transcription:\u001b[39m\u001b[33m\"\u001b[39m)\n\u001b[32m     54\u001b[39m     \u001b[38;5;28mprint\u001b[39m(full_transcript)\n\u001b[32m---> \u001b[39m\u001b[32m56\u001b[39m \u001b[43masyncio\u001b[49m\u001b[43m.\u001b[49m\u001b[43mrun\u001b[49m\u001b[43m(\u001b[49m\u001b[43mrecognize_continuous\u001b[49m\u001b[43m(\u001b[49m\u001b[43m)\u001b[49m\u001b[43m)\u001b[49m\n",
      "\u001b[36mFile \u001b[39m\u001b[32m/opt/homebrew/Cellar/python@3.13/3.13.3_1/Frameworks/Python.framework/Versions/3.13/lib/python3.13/asyncio/runners.py:191\u001b[39m, in \u001b[36mrun\u001b[39m\u001b[34m(main, debug, loop_factory)\u001b[39m\n\u001b[32m    161\u001b[39m \u001b[38;5;250m\u001b[39m\u001b[33;03m\"\"\"Execute the coroutine and return the result.\u001b[39;00m\n\u001b[32m    162\u001b[39m \n\u001b[32m    163\u001b[39m \u001b[33;03mThis function runs the passed coroutine, taking care of\u001b[39;00m\n\u001b[32m   (...)\u001b[39m\u001b[32m    187\u001b[39m \u001b[33;03m    asyncio.run(main())\u001b[39;00m\n\u001b[32m    188\u001b[39m \u001b[33;03m\"\"\"\u001b[39;00m\n\u001b[32m    189\u001b[39m \u001b[38;5;28;01mif\u001b[39;00m events._get_running_loop() \u001b[38;5;129;01mis\u001b[39;00m \u001b[38;5;129;01mnot\u001b[39;00m \u001b[38;5;28;01mNone\u001b[39;00m:\n\u001b[32m    190\u001b[39m     \u001b[38;5;66;03m# fail fast with short traceback\u001b[39;00m\n\u001b[32m--> \u001b[39m\u001b[32m191\u001b[39m     \u001b[38;5;28;01mraise\u001b[39;00m \u001b[38;5;167;01mRuntimeError\u001b[39;00m(\n\u001b[32m    192\u001b[39m         \u001b[33m\"\u001b[39m\u001b[33masyncio.run() cannot be called from a running event loop\u001b[39m\u001b[33m\"\u001b[39m)\n\u001b[32m    194\u001b[39m \u001b[38;5;28;01mwith\u001b[39;00m Runner(debug=debug, loop_factory=loop_factory) \u001b[38;5;28;01mas\u001b[39;00m runner:\n\u001b[32m    195\u001b[39m     \u001b[38;5;28;01mreturn\u001b[39;00m runner.run(main)\n",
      "\u001b[31mRuntimeError\u001b[39m: asyncio.run() cannot be called from a running event loop"
     ]
    }
   ],
   "source": [
    "import azure.cognitiveservices.speech as speechsdk\n",
    "import asyncio\n",
    "\n",
    "key = SPEECH_SERVICE_KEY\n",
    "region = SPEECH_REGION\n",
    "\n",
    "speech_config = speechsdk.SpeechConfig(subscription=key, region=region)\n",
    "auto_detect_config = speechsdk.AutoDetectSourceLanguageConfig(languages=[\"en-US\", \"ko-KR\", \"zh-CN\"])\n",
    "audio_config = speechsdk.AudioConfig(filename=\"/Users/parkjiyon/Desktop/MSAI6/finalProject/fastapi-app/app/data/audio1.wav\")\n",
    "\n",
    "recognizer = speechsdk.SpeechRecognizer(\n",
    "    speech_config=speech_config,\n",
    "    auto_detect_source_language_config=auto_detect_config,\n",
    "    audio_config=audio_config\n",
    ")\n",
    "\n",
    "all_results = []\n",
    "detected_lang = None\n",
    "\n",
    "async def recognize_continuous():\n",
    "    global detected_lang\n",
    "\n",
    "    done = asyncio.Event()\n",
    "\n",
    "    def handle_final_result(evt):\n",
    "        global detected_lang\n",
    "        if detected_lang is None:\n",
    "            detected_lang = evt.result.properties.get(\n",
    "                speechsdk.PropertyId.SpeechServiceConnection_AutoDetectSourceLanguageResult)\n",
    "            print(f\"Detected language: {detected_lang}\")\n",
    "        if evt.result.reason == speechsdk.ResultReason.RecognizedSpeech:\n",
    "            print(f\"Partial transcription: {evt.result.text}\")\n",
    "            all_results.append(evt.result.text)\n",
    "\n",
    "    def handle_session_stopped(evt):\n",
    "        done.set()\n",
    "\n",
    "    def handle_canceled(evt):\n",
    "        print(f\"Recognition canceled: {evt.reason}\")\n",
    "        if evt.reason == speechsdk.CancellationReason.Error:\n",
    "            print(f\"Error details: {evt.error_details}\")\n",
    "        done.set()\n",
    "\n",
    "    recognizer.recognized.connect(handle_final_result)\n",
    "    recognizer.session_stopped.connect(handle_session_stopped)\n",
    "    recognizer.canceled.connect(handle_canceled)\n",
    "\n",
    "    recognizer.start_continuous_recognition()\n",
    "    await done.wait()\n",
    "    recognizer.stop_continuous_recognition()\n",
    "\n",
    "    full_transcript = ' '.join(all_results)\n",
    "    print(\"\\nFull transcription:\")\n",
    "    print(full_transcript)\n",
    "\n",
    "asyncio.run(recognize_continuous())\n"
   ]
  },
  {
   "cell_type": "code",
   "execution_count": 4,
   "id": "1c3b7125",
   "metadata": {},
   "outputs": [
    {
     "name": "stdout",
     "output_type": "stream",
     "text": [
      "* Running on local URL:  http://127.0.0.1:7860\n",
      "\n",
      "To create a public link, set `share=True` in `launch()`.\n"
     ]
    },
    {
     "data": {
      "text/html": [
       "<div><iframe src=\"http://127.0.0.1:7860/\" width=\"100%\" height=\"500\" allow=\"autoplay; camera; microphone; clipboard-read; clipboard-write;\" frameborder=\"0\" allowfullscreen></iframe></div>"
      ],
      "text/plain": [
       "<IPython.core.display.HTML object>"
      ]
     },
     "metadata": {},
     "output_type": "display_data"
    }
   ],
   "source": [
    "with gr.Blocks() as demo:\n",
    "\n",
    "    gr.Markdown(\"# AI Speech World!\")\n",
    "\n",
    "    def change_audio(audio_path):\n",
    "        return audio_path\n",
    "\n",
    "\n",
    "    with gr.Column():\n",
    "        gr.Markdown(\"### STT ###\")\n",
    "\n",
    "        input_mic = gr.Audio(label=\"마이크 입력\", sources=\"microphone\", type=\"filepath\", show_download_button=True)\n",
    "        output_textbox = gr.Textbox(label=\"텍스트\", interactive=False)\n",
    "\n",
    "        input_mic.change(change_audio, inputs=[input_mic], outputs=[output_textbox])\n",
    "\n",
    "    demo.launch()"
   ]
  }
 ],
 "metadata": {
  "kernelspec": {
   "display_name": "msaifinal",
   "language": "python",
   "name": "python3"
  },
  "language_info": {
   "codemirror_mode": {
    "name": "ipython",
    "version": 3
   },
   "file_extension": ".py",
   "mimetype": "text/x-python",
   "name": "python",
   "nbconvert_exporter": "python",
   "pygments_lexer": "ipython3",
   "version": "3.13.3"
  }
 },
 "nbformat": 4,
 "nbformat_minor": 5
}
