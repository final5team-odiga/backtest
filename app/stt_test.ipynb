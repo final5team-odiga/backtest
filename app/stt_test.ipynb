{
 "cells": [
  {
   "cell_type": "code",
   "execution_count": null,
   "id": "ce13a3e5",
   "metadata": {},
   "outputs": [],
   "source": [
    "SPEECH_SERVICE_ENDPOINT='https://koreacentral.api.cognitive.microsoft.com/'\n",
    "SPEECH_SERVICE_KEY= 'GHoOYwCZCawaSKH9qzlsoQArVyOmm24bJKPxY9st77kH3tSMV4oFJQQJ99BEACNns7RXJ3w3AAAYACOGYJME'"
   ]
  },
  {
   "cell_type": "code",
   "execution_count": 5,
   "id": "ab251902",
   "metadata": {},
   "outputs": [
    {
     "name": "stdout",
     "output_type": "stream",
     "text": [
      "404 {\"error\":{\"code\":\"404\",\"message\": \"Resource not found\"}}\n"
     ]
    },
    {
     "data": {
      "text/plain": [
       "''"
      ]
     },
     "execution_count": 5,
     "metadata": {},
     "output_type": "execute_result"
    }
   ],
   "source": [
    "import gradio as gr\n",
    "import requests\n",
    "\n",
    "def request_stt(file_path):\n",
    "    # endpoint\n",
    "    endpoint = SPEECH_SERVICE_ENDPOINT\n",
    "\n",
    "    query_params = {\n",
    "        \"language\" : \"ko-KR\",\n",
    "        \"format\" : \"detailed\"\n",
    "    }\n",
    "    # method:POST\n",
    "    # headers\n",
    "    headers = {\n",
    "        \"Content-Type\" : \"audio/wav\",\n",
    "        \"Ocp-Apim-Subscription-Key\" : SPEECH_SERVICE_KEY\n",
    "\n",
    "    }\n",
    "    # body\n",
    "    with open(file_path, \"rb\") as audio:\n",
    "        audio_data = audio.read()\n",
    "\n",
    "\n",
    "    response = requests.post(endpoint, params=query_params, headers=headers, data = audio_data)\n",
    "    print(response.status_code, response.text)\n",
    "\n",
    "\n",
    "    if response.status_code == 200:\n",
    "        response_json = response.json()\n",
    "        text = response_json['DisplayText']\n",
    "\n",
    "        return text\n",
    "    \n",
    "    else:\n",
    "        return \"\"\n",
    "\n",
    "\n",
    "request_stt(\"/Users/parkjiyon/Desktop/MSAI6/finalProject/fastapi-app/app/data/audio1.wav\")"
   ]
  },
  {
   "cell_type": "code",
   "execution_count": null,
   "id": "17cf831d",
   "metadata": {},
   "outputs": [],
   "source": []
  },
  {
   "cell_type": "code",
   "execution_count": 6,
   "id": "1c3b7125",
   "metadata": {},
   "outputs": [
    {
     "name": "stdout",
     "output_type": "stream",
     "text": [
      "* Running on local URL:  http://127.0.0.1:7860\n",
      "\n",
      "To create a public link, set `share=True` in `launch()`.\n"
     ]
    },
    {
     "data": {
      "text/html": [
       "<div><iframe src=\"http://127.0.0.1:7860/\" width=\"100%\" height=\"500\" allow=\"autoplay; camera; microphone; clipboard-read; clipboard-write;\" frameborder=\"0\" allowfullscreen></iframe></div>"
      ],
      "text/plain": [
       "<IPython.core.display.HTML object>"
      ]
     },
     "metadata": {},
     "output_type": "display_data"
    }
   ],
   "source": [
    "with gr.Blocks() as demo:\n",
    "\n",
    "    gr.Markdown(\"# AI Speech World!\")\n",
    "\n",
    "    def change_audio(audio_path):\n",
    "        return audio_path\n",
    "\n",
    "\n",
    "    with gr.Column():\n",
    "        gr.Markdown(\"### STT ###\")\n",
    "\n",
    "        input_mic = gr.Audio(label=\"마이크 입력\", sources=\"microphone\", type=\"filepath\", show_download_button=True)\n",
    "        output_textbox = gr.Textbox(label=\"텍스트\", interactive=False)\n",
    "\n",
    "        input_mic.change(change_audio, inputs=[input_mic], outputs=[output_textbox])\n",
    "\n",
    "    demo.launch()"
   ]
  }
 ],
 "metadata": {
  "kernelspec": {
   "display_name": "msaimlproject1",
   "language": "python",
   "name": "python3"
  },
  "language_info": {
   "codemirror_mode": {
    "name": "ipython",
    "version": 3
   },
   "file_extension": ".py",
   "mimetype": "text/x-python",
   "name": "python",
   "nbconvert_exporter": "python",
   "pygments_lexer": "ipython3",
   "version": "3.13.3"
  }
 },
 "nbformat": 4,
 "nbformat_minor": 5
}
